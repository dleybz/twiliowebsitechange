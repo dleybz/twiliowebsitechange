{
 "cells": [
  {
   "cell_type": "code",
   "execution_count": null,
   "metadata": {},
   "outputs": [],
   "source": [
    "#based on https://chrisalbon.com/python/web_scraping/monitor_a_website/\n",
    "import requests\n",
    "from twilio.rest import Client\n",
    "from bs4 import BeautifulSoup"
   ]
  },
  {
   "cell_type": "code",
   "execution_count": null,
   "metadata": {},
   "outputs": [],
   "source": [
    "my_phone = \"\" #The phone number you'd like to receive texts on\n",
    "twilio_phone = \"\" #Your registered number on Twilio\n",
    "url = \"https://www.recreation.gov/camping/campgrounds/232449\"\n",
    "headers = {'User-Agent': 'Mozilla/5.0 (Macintosh; Intel Mac OS X 10_10_1) AppleWebKit/537.36 (KHTML, like Gecko) Chrome/39.0.2171.95 Safari/537.36'}\n",
    "response = requests.get(url, headers=headers)\n",
    "today_soup = str(BeautifulSoup(response.text, \"lxml\"))\n",
    "body = f\"The website {url} has changed.\""
   ]
  },
  {
   "cell_type": "code",
   "execution_count": null,
   "metadata": {},
   "outputs": [],
   "source": [
    "def send_text(ph1, ph2, body):\n",
    "    client = Client()\n",
    "\n",
    "    message = client.messages.create(\n",
    "        to=ph1, \n",
    "        from_=ph2,\n",
    "        body=body\n",
    "    )"
   ]
  },
  {
   "cell_type": "code",
   "execution_count": null,
   "metadata": {},
   "outputs": [],
   "source": [
    "try:\n",
    "    with open(\"last_soup\", \"r\") as last_soup:\n",
    "        if (today_soup != last_soup.read()):\n",
    "            send_text(my_phone, twilio_phone, body)\n",
    "            with open(\"last_soup\", \"w\") as last_soup:\n",
    "                last_soup.write(today_soup)\n",
    "except FileNotFoundError:\n",
    "    with open(\"last_soup\", \"w\") as last_soup:\n",
    "        last_soup.write(today_soup)"
   ]
  }
 ],
 "metadata": {
  "kernelspec": {
   "display_name": "Python 3",
   "language": "python",
   "name": "python3"
  },
  "language_info": {
   "codemirror_mode": {
    "name": "ipython",
    "version": 3
   },
   "file_extension": ".py",
   "mimetype": "text/x-python",
   "name": "python",
   "nbconvert_exporter": "python",
   "pygments_lexer": "ipython3",
   "version": "3.7.6"
  }
 },
 "nbformat": 4,
 "nbformat_minor": 4
}
